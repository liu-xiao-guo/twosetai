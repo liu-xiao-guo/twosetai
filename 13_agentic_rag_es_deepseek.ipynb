{
 "cells": [
  {
   "cell_type": "markdown",
   "id": "b1750a71-a471-4a24-b490-559dc45bce6d",
   "metadata": {},
   "source": [
    "# Agentic RAG\n",
    "\n",
    "The main points of an Agent-based RAG solution are:\n",
    "\n",
    "- **Agentic**: The system is autonomous, making decisions and taking actions based on the context of the interaction.\n",
    "- **RAG (Retrieval-Augmented Generation):** Combines information retrieval from the knowledge base with the LLM’s generative capabilities."
   ]
  },
  {
   "cell_type": "markdown",
   "id": "41b1e46a-2181-4f5c-9c01-2359346e8e54",
   "metadata": {},
   "source": [
    "## System architecture\n",
    "\n",
    "\n",
    "![agentic rag](images/agentic_rag_0.png)\n",
    "![agentic rag](images/agentic_rag_1.png)\n",
    "![agentic rag](images/agentic_rag_2.png)\n",
    "![agentic rag](images/agentic_rag_3.jpg)"
   ]
  },
  {
   "cell_type": "markdown",
   "id": "b9af0e2c-3d72-448d-b065-9e643abff513",
   "metadata": {},
   "source": [
    "## Langchain Code\n",
    "\n",
    "![](images/langchain_agentic_rag.jpeg)"
   ]
  },
  {
   "cell_type": "markdown",
   "id": "f6f7bc5e-a02c-4db9-80a1-273f481e4d0b",
   "metadata": {},
   "source": [
    "## Read and load PDF files"
   ]
  },
  {
   "cell_type": "code",
   "execution_count": 47,
   "id": "8f2ccfda-74d5-4343-bbcc-9abff63b5cec",
   "metadata": {},
   "outputs": [
    {
     "name": "stdout",
     "output_type": "stream",
     "text": [
      "{'name': 'liuxgn.local', 'cluster_name': 'elasticsearch', 'cluster_uuid': 'h66jNmrlQoGZ0j1RdU0j8Q', 'version': {'number': '8.17.2', 'build_flavor': 'default', 'build_type': 'tar', 'build_hash': '747663ddda3421467150de0e4301e8d4bc636b0c', 'build_date': '2025-02-05T22:10:57.067596412Z', 'build_snapshot': False, 'lucene_version': '9.12.0', 'minimum_wire_compatibility_version': '7.17.0', 'minimum_index_compatibility_version': '7.0.0'}, 'tagline': 'You Know, for Search'}\n"
     ]
    }
   ],
   "source": [
    "import os\n",
    "import PyPDF2\n",
    "from tqdm.notebook import tqdm\n",
    "import re\n",
    "import json\n",
    "\n",
    "from dotenv import load_dotenv\n",
    "from elasticsearch import Elasticsearch\n",
    "from langchain_openai import AzureOpenAIEmbeddings\n",
    "# from langchain.chat_models import AzureChatOpenAI\n",
    "from openai import AzureOpenAI\n",
    "from openai import OpenAI\n",
    "\n",
    "load_dotenv()\n",
    "\n",
    "ES_USER= os.getenv(\"ES_USER\")\n",
    "ES_PASSWORD = os.getenv(\"ES_PASSWORD\")\n",
    "ES_ENDPOINT = os.getenv(\"ES_ENDPOINT\")\n",
    "\n",
    "MODEL_NAME = os.getenv(\"MODEL_NAME\")\n",
    "AZURE_EMBEDDING_ENDPOINT = os.getenv(\"AZURE_EMBEDDING_ENDPOINT\")\n",
    "AZURE_EMBEDDING_API_KEY = os.getenv(\"AZURE_EMBEDDING_API_KEY\")\n",
    "AZURE_EMBEDDING_API_VERSION = os.getenv(\"AZURE_EMBEDDING_API_VERSION\")\n",
    "\n",
    "AZURE_API_KEY = os.getenv(\"AZURE_API_KEY\")\n",
    "AZURE_EDNPOINT = os.getenv(\"AZURE_EDNPOINT\")\n",
    "AZURE_API_VERSION = os.getenv(\"AZURE_API_VERSION\")\n",
    "AZURE_DEPLOYMENT_ID = os.getenv(\"AZURE_DEPLOYMENT_ID\")\n",
    "\n",
    "OPENAI_API_KEY=os.getenv(\"OPENAI_API_KEY\")\n",
    "DEEPSEEK_URL=os.getenv(\"DEEPSEEK_URL\")\n",
    "\n",
    "url = f\"https://{ES_USER}:{ES_PASSWORD}@{ES_ENDPOINT}:9200\"\n",
    "es = Elasticsearch(url, ca_certs = \"./http_ca.crt\", verify_certs = True)\n",
    "\n",
    "print(es.info())\n",
    "\n",
    "elastic_index_name = \"agent_rag_index\"\n",
    "\n",
    "embeddings = AzureOpenAIEmbeddings(\n",
    "    model=MODEL_NAME,\n",
    "    azure_endpoint=AZURE_EMBEDDING_ENDPOINT, \n",
    "    api_key= AZURE_EMBEDDING_API_KEY,\n",
    "    openai_api_version=AZURE_EMBEDDING_API_VERSION\n",
    ")\n",
    "\n",
    "openai_client = OpenAI(\n",
    "    api_key=OPENAI_API_KEY,\n",
    "    base_url=DEEPSEEK_URL\n",
    ")\n",
    "\n",
    "# chat = AzureOpenAI(\n",
    "#   api_key = AZURE_API_KEY,  \n",
    "#   api_version = AZURE_API_VERSION,\n",
    "#   azure_endpoint = AZURE_EDNPOINT\n",
    "# )\n",
    "\n",
    "\n",
    "def read_pdfs_from_folder(folder_path):\n",
    "    pdf_list = []\n",
    "    \n",
    "    # Loop through all files in the specified folder\n",
    "    for filename in tqdm(os.listdir(folder_path)):\n",
    "        if filename.endswith('.pdf'):\n",
    "            file_path = os.path.join(folder_path, filename)\n",
    "            \n",
    "            # Open each PDF file\n",
    "            with open(file_path, 'rb') as file:\n",
    "                reader = PyPDF2.PdfReader(file)\n",
    "                content = \"\"\n",
    "                \n",
    "                # Read each page's content and append it to a string\n",
    "                for page_num in range(len(reader.pages)):\n",
    "                    page = reader.pages[page_num]\n",
    "                    content += page.extract_text()\n",
    "                \n",
    "                # Add the PDF content to the list\n",
    "                pdf_list.append({\"content\": content, \"filename\": filename})\n",
    "    \n",
    "    return pdf_list\n",
    "\n",
    "folder_path = \"./rag_data\"\n",
    "\n",
    "# all_documents = read_pdfs_from_folder(folder_path)\n"
   ]
  },
  {
   "cell_type": "code",
   "execution_count": 48,
   "id": "ecd92b5a-8f3e-4bee-bea5-bd70864076f8",
   "metadata": {},
   "outputs": [
    {
     "data": {
      "text/plain": [
       "AzureOpenAIEmbeddings(client=<openai.resources.embeddings.Embeddings object at 0x11cb705d0>, async_client=<openai.resources.embeddings.AsyncEmbeddings object at 0x11cb5bdd0>, model='text-embedding-ada-002', dimensions=None, deployment=None, openai_api_version='2023-05-15', openai_api_base=None, openai_api_type='azure', openai_proxy=None, embedding_ctx_length=8191, openai_api_key=SecretStr('**********'), openai_organization=None, allowed_special=None, disallowed_special=None, chunk_size=2048, max_retries=2, request_timeout=None, headers=None, tiktoken_enabled=True, tiktoken_model_name=None, show_progress_bar=False, model_kwargs={}, skip_empty=False, default_headers=None, default_query=None, retry_min_seconds=4, retry_max_seconds=20, http_client=None, http_async_client=None, check_embedding_ctx_length=True, azure_endpoint='https://ada-embeddings1.openai.azure.com/', azure_ad_token=None, azure_ad_token_provider=None, azure_ad_async_token_provider=None, validate_base_url=True)"
      ]
     },
     "execution_count": 48,
     "metadata": {},
     "output_type": "execute_result"
    }
   ],
   "source": [
    "embeddings"
   ]
  },
  {
   "cell_type": "markdown",
   "id": "af4cc9b3-1131-4392-8ee9-7c019b353cfb",
   "metadata": {},
   "source": [
    "## Read Web URLs"
   ]
  },
  {
   "cell_type": "code",
   "execution_count": 49,
   "id": "1d74db54-5f22-47ee-bfd4-6a987be88ba1",
   "metadata": {},
   "outputs": [],
   "source": [
    "from typing import Optional\n",
    "import requests\n",
    "\n",
    "def fetch_url_content(url: str) -> Optional[str]:\n",
    "    \"\"\"\n",
    "    Fetches content from a URL by performing an HTTP GET request.\n",
    "\n",
    "    Parameters:\n",
    "        url (str): The endpoint or URL to fetch content from.\n",
    "\n",
    "    Returns:\n",
    "        Optional[str]: The content retrieved from the URL as a string,\n",
    "                       or None if the request fails.\n",
    "    \"\"\"\n",
    "    prefix_url: str = \"https://r.jina.ai/\"\n",
    "    full_url: str = prefix_url + url  # Concatenate the prefix URL with the provided URL\n",
    "    \n",
    "    try:\n",
    "        response = requests.get(full_url)  # Perform a GET request\n",
    "        if response.status_code == 200:\n",
    "            return response.content.decode('utf-8')  # Return the content of the response as a string\n",
    "        else:\n",
    "            print(f\"Error: HTTP GET request failed with status code {response.status_code}\")\n",
    "            return None\n",
    "    except requests.RequestException as e:\n",
    "        print(f\"Error: Failed to fetch URL {full_url}. Exception: {e}\")\n",
    "        return None"
   ]
  },
  {
   "cell_type": "code",
   "execution_count": 50,
   "id": "5ceed779-8cc4-4b76-8f87-46138a9c24b0",
   "metadata": {},
   "outputs": [
    {
     "name": "stdout",
     "output_type": "stream",
     "text": [
      "Content retrieved successfully:\n"
     ]
    }
   ],
   "source": [
    "# Replace this with the specific endpoint or URL you want to fetch\n",
    "url: str = \"https://em360tech.com/tech-article/what-is-llama-3\"  \n",
    "content: Optional[str] = fetch_url_content(url)\n",
    "\n",
    "\n",
    "if content is not None:\n",
    "    print(\"Content retrieved successfully:\")\n",
    "else:\n",
    "    print(\"Failed to retrieve content from the specified URL.\")"
   ]
  },
  {
   "cell_type": "code",
   "execution_count": 51,
   "id": "c9087aba-d24a-49c8-acee-8ad3e17a6214",
   "metadata": {},
   "outputs": [
    {
     "data": {
      "text/plain": [
       "'Title: What is Meta\\'s Llama 3? Everything you Need to Know\\n\\nURL Source: https://em360tech.com/tech-article/what-is-llama-3\\n\\nMarkdown Content:\\nWhat is Meta\\'s Llama 3? Everything you Need to Know | Enterprise Tech News EM360Tech\\n===============\\n\\n[Skip to main content](https://em360tech.com/tech-article/what-is-llama-3#main-content)\\n\\n[![Image 3: Home](https://em360tech.com/themes/custom/tech360/images/logos/site-logo-black-100.webp)](https://em360tech.com/ \"Home\")\\n\\nTopics\\n\\nAI Data Emerging Technologies Infrastructure Management Security In The News\\n\\n[Episode 10 – AI and Observability in Workload Automation and Orchestration](https://em360tech.com/podcasts/ai-observability-workload-automation-orchestration)\\n\\nPodcast\\n\\n#### Episode 10 – AI and Observability in Workload Automation and Orchestration\\n\\nby Dan Twing\\n\\n1 min\\n\\nThe Future of Lending Services: Leveraging AI and Data Analytics for Risk Assessment\\n\\nTech Article\\n\\n#### The Future of Lending Services: Leveraging AI and Data Analytics for Risk Assessment\\n\\nby Janhvi Neema\\n\\n5 min\\n\\n[What is GPT-4.5? A Guide to OpenAI\\'s Latest Model](https://em360tech.com/tech-articles/what-gpt-45-guide-openais-latest-model)\\n\\nTech Article\\n\\n#### What is GPT-4.5? A Guide to OpenAI\\'s Latest Model\\n\\nby Katie Baker\\n\\n2 min\\n\\n[What is Alexa+? Amazon’s AI Upgrade](https://em360tech.com/tech-article/what-is-alexa%2B)\\n\\nTech Article\\n\\n#### What is Alexa+? Amazon’s AI Upgrade\\n\\nby Katie Baker\\n\\n3 min\\n\\n[Explore all](https://em360tech.com/ai-feed)\\n\\n[The Future of Data Centres Energy](https://em360tech.com/podcasts/the-future-of-data-centres-energy)\\n\\nPodcast\\n\\n#### The Future of Data Centres Energy\\n\\nby Shubhangi Dua\\n\\n1 min\\n\\n[Ataccama: The end-to-end data quality framework](https://em360tech.com/whitepapers/ataccama-end-to-end-data-quality-framework)\\n\\nWhitepaper\\n\\n#### Ataccama: The end-to-end data quality framework\\n\\nby EM360 Tech\\n\\n1 min\\n\\n[Ataccama: Data Trust Report 2025](https://em360tech.com/whitepapers/ataccama-data-trust-report-2025)\\n\\nWhitepaper\\n\\n#### Ataccama: Data Trust Report 2025\\n\\nby EM360 Tech\\n\\n1 min\\n\\n[Data Trust or Bust: The Key to AI Success](https://em360tech.com/podcasts/data-trust-the-key-to-ai-success)\\n\\nPodcast\\n\\n#### Data Trust or Bust: The Key to AI Success\\n\\nby Christina Stathopoulos\\n\\n1 min\\n\\n[Explore all](https://em360tech.com/data-feed)\\n\\n[Meta Launches Anti-Scam Facial Recognition In UK](https://em360tech.com/tech-articles/meta-launches-anti-scam-facial-recognition-uk)\\n\\nTech Article\\n\\n#### Meta Launches Anti-Scam Facial Recognition In UK\\n\\nby Katie Baker\\n\\n2 min\\n\\n[Planned Obsolescence Explained: Why Your Tech Is Designed To Fail](https://em360tech.com/tech-articles/planned-obsolescence-explained-why-your-tech-designed-fail)\\n\\nTech Article\\n\\n#### Planned Obsolescence Explained: Why Your Tech Is Designed To Fail\\n\\nby Katie Baker\\n\\n3 min\\n\\n[Moving beyond networks – the enterprise opportunity for telcos](https://em360tech.com/press-releases/moving-beyond-networks-enterprise-opportunity-for-telcos)\\n\\nPress Release\\n\\n#### Moving beyond networks – the enterprise opportunity for telcos\\n\\nby EM360 Tech\\n\\n8 min\\n\\n[Mobile Technologies and Digital Transformation to Boost Global GDP by $11 Trillion by 2030, says GSMA Intelligence](https://em360tech.com/press-releases/mobile-tech-digital-transformation-to-boost-global-gdp-by-2030)\\n\\nPress Release\\n\\n#### Mobile Technologies and Digital Transformation to Boost Global GDP by $11 Trillion by 2030, says GSMA Intelligence\\n\\nby EM360 Tech\\n\\n5 min\\n\\n[Explore all](https://em360tech.com/emerging-technologies-feed)\\n\\n[Takeaways From Fall Conferences - Al Evolution for EX and CX, Getting Workers Back to the Office, and Future of Work Expo](https://em360tech.com/podcasts/fall-conferences-takeaways-ai-evolution-ex-cx-back-to-office-future-of-work)\\n\\nPodcast\\n\\n#### Takeaways From Fall Conferences - Al Evolution for EX and CX, Getting Workers Back to the Office, and Future of Work Expo\\n\\nby Jon Arnold\\n\\n1 min\\n\\n[What Are Microservices? A Guide to Cloud-Native Architecture](https://em360tech.com/tech-articles/what-are-microservices)\\n\\nTech Article\\n\\n#### What Are Microservices? A Guide to Cloud-Native Architecture\\n\\nby EM360 Tech\\n\\n6 min\\n\\n[Introducing The Customer Connect Expo: A New Era of Engagement](https://em360tech.com/press-releases/customer-connect-expo-engagement)\\n\\nPress Release\\n\\n#### Introducing The Customer Connect Expo: A New Era of Engagement\\n\\nby EM360 Tech\\n\\n3 min\\n\\n[Episode 9 – Balancing Control and Innovation: The Modern Automation Center of Excellence](https://em360tech.com/podcasts/ep-9-balancing-control-and-innovation-modern-automation-center-of-excellence)\\n\\nPodcast\\n\\n#### Episode 9 – Balancing Control and Innovation: The Modern Automation Center of Excellence\\n\\nby Shubhangi Dua\\n\\n1 min\\n\\n[Explore all](https://em360tech.com/infrastructure-management-feed)\\n\\n[Meeting of the Minds: State of Cybersecurity in 2025 Part II](https://em360tech.com/podcasts/meeting-of-the-minds-state-of-cybersecurity-2025-part-2)\\n\\nPodcast\\n\\n#### Meeting of the Minds: State of Cybersecurity in 2025 Part II\\n\\nby EM360 Tech\\n\\n2 min\\n\\n[Radware: CISO\\'s Guide to Security in the Age of AI](https://em360tech.com/whitepapers/radware-ciso-guide-to-security-in-age-of-ai)\\n\\nWhitepaper\\n\\n#### Radware: CISO\\'s Guide to Security in the Age of AI\\n\\nby EM360 Tech\\n\\n1 min\\n\\n[Internet2 Protects Research and Education Networks with Radware’s On-Demand Cloud DDoS Mitigation Service](https://em360tech.com/whitepapers/internet2-protects-research-and-education-networks-radwares-demand-cloud-ddos)\\n\\nWhitepaper\\n\\n#### Internet2 Protects Research and Education Networks with Radware’s On-Demand Cloud DDoS Mitigation Service\\n\\nby EM360 Tech\\n\\n1 min\\n\\n[Leeds United Customer Card Details Compromised In Cyber Attack](https://em360tech.com/tech-articles/leeds-united-customer-card-details-compromised-cyber-attack)\\n\\nTech Article\\n\\n#### Leeds United Customer Card Details Compromised In Cyber Attack\\n\\nby Katie Baker\\n\\n2 min\\n\\n[Explore all](https://em360tech.com/security-feed)\\n\\n[Business Intelligence Trends for 2025](https://em360tech.com/tech-articles/business-intelligence-trends-2025)\\n\\nTech Article\\n\\n#### Business Intelligence Trends for 2025\\n\\nby Janhvi Neema\\n\\n5 min\\n\\n[Bluesky Rolls Out Custom Video Feeds, To Rival TikTok](https://em360tech.com/tech-articles/bluesky-rolls-out-custom-video-feeds-rival-tiktok)\\n\\nTech Article\\n\\n#### Bluesky Rolls Out Custom Video Feeds, To Rival TikTok\\n\\nby Shubhangi Dua\\n\\n4 min\\n\\n[What is Net Neutrality? The Battle for an Open Internet](https://em360tech.com/tech-articles/what-net-neutrality-battle-open-internet)\\n\\nTech Article\\n\\n#### What is Net Neutrality? The Battle for an Open Internet\\n\\nby Katie Baker\\n\\n4 min\\n\\n[Episode 6 - Automation Excellence in 2025: What Should Be On Your Radar?](https://em360tech.com/podcasts/episode-6-automation-excellence-2025-what-should-be-your-radar)\\n\\nPodcast\\n\\n#### Episode 6 - Automation Excellence in 2025: What Should Be On Your Radar?\\n\\nby Dan Twing\\n\\n1 min\\n\\n[Explore all](https://em360tech.com/in-the-news-feed)\\n\\nMedia\\n\\nTech Articles Podcasts Top 10s Whitepapers Press Releases Video Resources\\n\\n[What Are Microservices? A Guide to Cloud-Native Architecture](https://em360tech.com/tech-articles/what-are-microservices)\\n\\nInfrastructure Management\\n\\n#### What Are Microservices? A Guide to Cloud-Native Architecture\\n\\nby EM360 Tech\\n\\n6 min\\n\\n[Leeds United Customer Card Details Compromised In Cyber Attack](https://em360tech.com/tech-articles/leeds-united-customer-card-details-compromised-cyber-attack)\\n\\nSecurity\\n\\n#### Leeds United Customer Card Details Compromised In Cyber Attack\\n\\nby Katie Baker\\n\\n2 min\\n\\n[Cybercriminals Stole & Resold Eras Tour Tickets](https://em360tech.com/tech-articles/cybercriminals-stole-resold-eras-tour-tickets)\\n\\nSecurity\\n\\n#### Cybercriminals Stole & Resold Eras Tour Tickets\\n\\nby Katie Baker\\n\\n2 min\\n\\n[Meta Launches Anti-Scam Facial Recognition In UK](https://em360tech.com/tech-articles/meta-launches-anti-scam-facial-recognition-uk)\\n\\nEmerging Technologies\\n\\n#### Meta Launches Anti-Scam Facial Recognition In UK\\n\\nby Katie Baker\\n\\n2 min\\n\\n[Explore all](https://em360tech.com/tech-articles)\\n\\n[Takeaways From Fall Conferences - Al Evolution for EX and CX, Getting Workers Back to the Office, and Future of Work Expo](https://em360tech.com/podcasts/fall-conferences-takeaways-ai-evolution-ex-cx-back-to-office-future-of-work)\\n\\nInfrastructure Management\\n\\n#### Takeaways From Fall Conferences - Al Evolution for EX and CX, Getting Workers Back to the Office, and Future of Work Expo\\n\\nby Jon Arnold\\n\\n1 min\\n\\n[Meeting of the Minds: State of Cybersecurity in 2025 Part II](https://em360tech.com/podcasts/meeting-of-the-minds-state-of-cybersecurity-2025-part-2)\\n\\nSecurity\\n\\n#### Meeting of the Minds: State of Cybersecurity in 2025 Part II\\n\\nby EM360 Tech\\n\\n2 min\\n\\n[Episode 10 – AI and Observability in Workload Automation and Orchestration](https://em360tech.com/podcasts/ai-observability-workload-automation-orchestration)\\n\\nAI\\n\\n#### Episode 10 – AI and Observability in Workload Automation and Orchestration\\n\\nby Dan Twing\\n\\n1 min\\n\\n[The Future of Data Centres Energy](https://em360tech.com/podcasts/the-future-of-data-centres-energy)\\n\\nData\\n\\n#### The Future of Data Centres Energy\\n\\nby Shubhangi Dua\\n\\n1 min\\n\\n[Explore all](https://em360tech.com/podcasts)\\n\\n[Top 10 Best Unified Endpoint Management (UEM) Solutions](https://em360tech.com/top-10/top-10-best-unified-endpoint-management-uem-solutions)\\n\\nSecurity\\n\\n#### Top 10 Best Unified Endpoint Management (UEM) Solutions\\n\\nby Katie Baker\\n\\n7 min\\n\\n[Top 10 Network Connectivity Solutions](https://em360tech.com/top-10/best-network-connectivity-solutions)\\n\\nInfrastructure Management\\n\\n#### Top 10 Network Connectivity Solutions\\n\\nby Shubhangi Dua\\n\\n8 min\\n\\n[Top 10 Communications Platform as a Service (CPaaS) Providers](https://em360tech.com/top-10/top-10-cpaas-providers-2020)\\n\\nEmerging Technologies\\n\\n#### Top 10 Communications Platform as a Service (CPaaS) Providers\\n\\nby Shubhangi Dua\\n\\n10 min\\n\\n[Top 10 Best Colocation Data Centres](https://em360tech.com/top-10/best-colocation-data-centres)\\n\\nInfrastructure Management\\n\\n#### Top 10 Best Colocation Data Centres\\n\\nby Shubhangi Dua\\n\\n9 min\\n\\n[Explore all](https://em360tech.com/top-10)\\n\\n[Radware: CISO\\'s Guide to Security in the Age of AI](https://em360tech.com/whitepapers/radware-ciso-guide-to-security-in-age-of-ai)\\n\\nSecurity\\n\\n#### Radware: CISO\\'s Guide to Security in the Age of AI\\n\\nby EM360 Tech\\n\\n1 min\\n\\n[Internet2 Protects Research and Education Networks with Radware’s On-Demand Cloud DDoS Mitigation Service](https://em360tech.com/whitepapers/internet2-protects-research-and-education-networks-radwares-demand-cloud-ddos)\\n\\nSecurity\\n\\n#### Internet2 Protects Research and Education Networks with Radware’s On-Demand Cloud DDoS Mitigation Service\\n\\nby EM360 Tech\\n\\n1 min\\n\\n[New Relic: AI-Powered DEM: Bring Greater Intelligence to Every Digital Experience](https://em360tech.com/whitepapers/new-relic-ai-powered-dem)\\n\\nAI\\n\\n#### New Relic: AI-Powered DEM: Bring Greater Intelligence to Every Digital Experience\\n\\nby EM360 Tech\\n\\n2 min\\n\\n[New Relic: Does Your DEM Strategy Connect All the Dots?](https://em360tech.com/whitepapers/new-relic-dem-strategy-ebook)\\n\\nAI\\n\\n#### New Relic: Does Your DEM Strategy Connect All the Dots?\\n\\nby EM360 Tech\\n\\n1 min\\n\\n[Explore all](https://em360tech.com/whitepapers)\\n\\n[Moving beyond networks – the enterprise opportunity for telcos](https://em360tech.com/press-releases/moving-beyond-networks-enterprise-opportunity-for-telcos)\\n\\nEmerging Technologies\\n\\n#### Moving beyond networks – the enterprise opportunity for telcos\\n\\nby EM360 Tech\\n\\n8 min\\n\\n[Mobile Technologies and Digital Transformation to Boost Global GDP by $11 Trillion by 2030, says GSMA Intelligence](https://em360tech.com/press-releases/mobile-tech-digital-transformation-to-boost-global-gdp-by-2030)\\n\\nEmerging Technologies\\n\\n#### Mobile Technologies and Digital Transformation to Boost Global GDP by $11 Trillion by 2030, says GSMA Intelligence\\n\\nby EM360 Tech\\n\\n5 min\\n\\n[Introducing The Customer Connect Expo: A New Era of Engagement](https://em360tech.com/press-releases/customer-connect-expo-engagement)\\n\\nInfrastructure Management\\n\\n#### Introducing The Customer Connect Expo: A New Era of Engagement\\n\\nby EM360 Tech\\n\\n3 min\\n\\n[Zero Trust World 2025: The Must-Attend Event for Cybersecurity Leaders](https://em360tech.com/press-releases/zero-trust-world-2025-cybersecurity)\\n\\nSecurity\\n\\n#### Zero Trust World 2025: The Must-Attend Event for Cybersecurity Leaders\\n\\nby EM360 Tech\\n\\n2 min\\n\\n[Explore all](https://em360tech.com/press-releases)\\n\\n[Meet The Analyst - Ann Emery](https://em360tech.com/video-resources/meet-the-analyst-ann-emery)\\n\\nData\\n\\n#### Meet The Analyst - Ann Emery\\n\\nby EM360 Tech\\n\\n1 min\\n\\n[Meet the Analyst: Debbie Reynolds](https://em360tech.com/video-resources/meet-the-analyst-debbie-reynolds)\\n\\nData\\n\\n#### Meet the Analyst: Debbie Reynolds\\n\\nby EM360 Tech\\n\\n2 min\\n\\n[Exploring AI Integration in Contact Centers: Insights from DTXUCX 2024](https://em360tech.com/video-resources/dtxucx-chris-angus)\\n\\nInfrastructure Management\\n\\n#### Exploring AI Integration in Contact Centers: Insights from DTXUCX 2024\\n\\nby EM360 Tech\\n\\n1 min\\n\\n[\"AI is Less of a Focus this Year\" | Mike Plested @ DTXUCX 2024](https://em360tech.com/video-resources/dtxucx-mike-plested)\\n\\nInfrastructure Management\\n\\n#### \"AI is Less of a Focus this Year\" | Mike Plested @ DTXUCX 2024\\n\\nby EM360 Tech\\n\\n1 min\\n\\n[Explore all](https://em360tech.com/video-resources)\\n\\n*   [Solution Providers](https://em360tech.com/solution-providers)\\n*   [Industry Leaders](https://em360tech.com/industry-leaders)\\n*   More\\n    *   [Events](https://em360tech.com/events)\\n    *   [About](https://em360tech.com/about-us)\\n    *   [Contact us](https://em360tech.com/contact)\\n    *   [FAQs](https://em360tech.com/faqs)\\n\\n*   [Sign In](https://em360tech.com/user/login)\\n*   [Join the community](https://em360tech.com/community)\\n\\nShowing results for\\n\\n*   [Content](https://em360tech.com/quicktabs/nojs/global_search/0)\\n*   [Industry experts](https://em360tech.com/quicktabs/nojs/global_search/1)\\n*   [Solution providers](https://em360tech.com/quicktabs/nojs/global_search/2)\\n*   [Events](https://em360tech.com/quicktabs/nojs/global_search/3)\\n\\nNo matches found\\n\\nExplore by topics\\n\\n All\\n\\n AI\\n\\n EMERGING TECHNOLOGIES\\n\\n SECURITY\\n\\n DATA\\n\\n INFRASTRUCTURE MANAGEMENT\\n\\n IN THE NEWS\\n\\nExplore by type\\n\\n All\\n\\n Tech Articles\\n\\n Podcast\\n\\n Top 10\\n\\n Whitepapers\\n\\n Video Resource\\n\\nNo matches found\\n\\nNo matches found\\n\\nExplore by topics\\n\\n ALL\\n\\n AI\\n\\n DATA\\n\\n EMERGING TECHNOLOGIES\\n\\n INFRASTRUCTURE MANAGEMENT\\n\\n SECURITY\\n\\n IN THE NEWS\\n\\nNo matches found\\n\\nExplore by topics\\n\\n ALL\\n\\n DATA\\n\\n AI\\n\\n EMERGING TECHNOLOGIES\\n\\n INFRASTRUCTURE MANAGEMENT\\n\\n SECURITY\\n\\nNo result found for\\n\\nTopics\\n------\\n\\n*   [AI](https://em360tech.com/ai-feed)\\n*   [Data](https://em360tech.com/data-feed)\\n*   [Emerging Technologies](https://em360tech.com/emerging-technologies-feed)\\n*   [Infrastructure Management](https://em360tech.com/infrastructure-management-feed)\\n*   [Security](https://em360tech.com/security-feed)\\n*   [In the news](https://em360tech.com/in-the-news-feed)\\n\\nMedia Types\\n-----------\\n\\n*   [Podcasts](https://em360tech.com/podcasts)\\n*   [Press release](https://em360tech.com/press-releases)\\n*   [Tech articles](https://em360tech.com/tech-articles)\\n*   [Top 10s](https://em360tech.com/top-10)\\n*   [Video resources](https://em360tech.com/video-resources)\\n*   [Whitepapers](https://em360tech.com/whitepapers)\\n\\n[Industry Leaders](https://em360tech.com/industry-leaders)\\n\\n[Media partners](https://em360tech.com/media-partners)\\n\\n[Solution Providers](https://em360tech.com/solution-providers)\\n\\n[Events](https://em360tech.com/events)\\n\\nMore\\n----\\n\\n*   [About us](https://em360tech.com/about-us)\\n*   [Contact us](https://em360tech.com/contact)\\n*   [FAQs](https://em360tech.com/faqs)\\n\\n×\\n\\n[Radware: CISO\\'s Guide to Security in the Age of AI](https://em360tech.com/whitepapers/radware-ciso-guide-to-security-in-age-of-ai)\\n\\n![Image 4: radware ciso guide ai](https://em360tech.com/sites/default/files/styles/content_card_primary/public/2025-03/radware-ciso-security-guide-thumbnail.png.webp?itok=KVms2vK4)\\n\\nWhitepaper\\n\\nSecurity\\n\\n#### Radware: CISO\\'s Guide to Security in the Age of AI\\n\\n![Image 5: em360tech image](https://em360tech.com/sites/default/files/styles/tech_index_logo/public/2023-11/radware%20logo.png.webp?itok=LCas_G2J)\\n\\n36 1 min\\n\\nLeaving Already? Dont Miss Out On Exclusive Industry Insights\\n\\n*   Engage with leading industry leaders and innovators.\\n*   Access exclusive insights, trends, and analysis.\\n*   Get expert analyst insights and strategic guidance.\\n*   Share your knowledge and build industry authority.\\n\\n[Sign Up / Sign In](https://em360tech.com/user/login#create)\\n\\nLeaving Already? You’ll Miss Out On This…\\n\\n*   Get exclusive reports, trends, and insights.\\n*   Engage with top industry experts and decision-makers.\\n*   Leverage expert analyst guidance for smarter decisions.\\n*   Build authority and share your thought leadership.\\n\\n[Sign Up / Sign In – No Cost, Just Value](https://em360tech.com/user/login#create)\\n\\nDon’t Miss Out On Exclusive Insights!\\n\\n*   Engage with leading industry leaders and innovators.\\n*   Access exclusive insights, trends, and analysis at no cost.\\n*   Get expert analyst insights and strategic guidance.\\n*   Share your knowledge and build industry authority.\\n\\n[Sign Up / Sign In](https://em360tech.com/user/login#create)\\n\\nGet Instant Access To Industry Insights!\\n\\n*   Unlock the latest trends, reports, and analysis.\\n*   Engage with top IT decision-makers and innovators.\\n*   Stay ahead with expert analyst opinions and guidance.\\n*   Boost your influence and establish thought leadership.\\n\\n[Sign Up / Sign In – No Cost, Just Value!](https://em360tech.com/user/login#create)\\n\\nSubscribe to the EM360Tech Newsletter\\n\\nName \\n\\nE-mail \\n\\n  \\n\\n*   [Tech Article](https://em360tech.com/tech-articles)\\n*   /\\n*   [AI](https://em360tech.com/ai-feed)\\n\\nWhat is Llama 3? Everything you Need to Know About Meta\\'s New AI\\n================================================================\\n\\n26 November 2024\\n\\n6 min\\n\\n3407\\n\\n69\\n\\nShare\\n\\nCopy link [Share on X](https://em360tech.com/#twitter) [Share on LinkedIn](https://em360tech.com/#linkedin)\\n\\n[](https://em360tech.com/user/katie-baker)\\n\\n![Image 6: Author picture](https://em360tech.com/sites/default/files/styles/author_image/public/linkedinImages/user-picture-4489-1706648130914.jpeg.webp?itok=JWG-W369)\\n\\nKatie Baker\\n\\nContent Marketing Executive at EM360Tech\\n\\nGuru\\n\\n     ![Image 7: em360tech image](https://em360tech.com/sites/default/files/styles/cover_image/public/2024-04/what-is-meta-llama-3.jpg.webp?itok=AJhUQIs1)\\n\\n*      [![Image 8](https://em360tech.com/sites/default/files/simpleads/responsive/300-x-600-motm-with-headshots-2-v1.jpg)](https://em360tech.com/podcasts/meeting-of-the-minds-state-of-cybersecurity-2025-part-2)\\n\\nMeta has just announced the launch of Llama 3, the next generation of their large language model that brings a host of new AI features to Meta\\'s social platforms.\\n\\nThe powerful AI, trained on a massive dataset of text and code,\\xa0not only boasts improved capabilities but is also integrated into Meta\\'s core social media platforms – Facebook, Instagram, and WhatsApp – as their new AI assistant, \"Meta AI.\"\\n\\nThe announcement also came with talks of an even more powerful Llama on the horizon. Meta has hinted at a 400 billion parameter model still in training, suggesting their commitment to pushing the boundaries of AI.\\n\\nIn this article, we will explore **Meta Llama 3, how to use it** and the differences between Llama 2 and Llama 3.\\n\\nWhat is Meta Llama 3?\\n---------------------\\n\\nMeta Llama 3 is a [large language model (LLM)](https://em360tech.com/tech-articles/what-large-language-model-llm-definition-examples-use-cases \"What is a Large Language Model (LLM)? Definition, Examples, Use Cases\") developed by Meta that\\'s trained on a massive amount of text data.\\n\\nThis allows it to understand and respond to language in a comprehensive way, making it suitable for tasks like writing different kinds of creative content, translating languages, and answering your questions in an informative way.\\n\\nLlama 3 models will be available on AWS, Databricks, Google Cloud, Hugging Face, Kaggle, IBM WatsonX, Microsoft Azure, NVIDIA NIM, and Snowflake.\\n\\nThe development of Llama 3 represents a significant advancement in LLM technology, especially for Meta. Its openness encourages collaboration and paves the way for even more powerful and versatile AI tools in the future. As research and development progress, we can expect even more innovative applications for Llama 3 across various industries.\\n\\nLlama 3 vs Llama 2: Which is better?\\n------------------------------------\\n\\nCompared to previous versions like Llama 2, Llama 3 boasts better reasoning abilities, code generation, and can follow instructions more effectively.\\xa0It also outperforms other open models on benchmarks that measure language understanding and response (ARC, DROP and MMLU).\\n\\nOne of the most intriguing new feature of Llama 3 compared to Llama 2 is its integration into Meta\\'s core products. The AI assistant is now accessible through chat functions in Facebook Messenger, Instagram, and WhatsApp.\\n\\nThis translates to a more helpful and more accessible AI assistant. Imagine asking Facebook for a summary of a research paper, or requesting creative writing prompts on Instagram – Llama 3 aims to be there for these tasks and more.\\n\\n**[Read: Llama 2: Everything You Need To Know About Meta\\'s ChatGPT Rival](https://em360tech.com/tech-articles/llama-2-everything-you-need-know-about-metas-new-chatgpt-rival \"LlaMa 2: Everything You Need to Know About Meta’s New ChatGPT Rival\")**\\n\\nLlama 3 is able to follow instructions and complete multi-step tasks more effectively and can generate various creative text formats like poems, code, scripts, and more. Crucially, researchers can access and build upon Llama 3, fostering further AI development.\\n\\nLlama 3 vs Llama 2: Key Differences\\xa0\\n------------------------------------\\n\\n### 1\\\\. Strong Benchmarks\\n\\nStrong benchmarks refer to standardized tests that evaluate an LLM\\'s capabilities across various aspects of language processing. These benchmarks help researchers and developers compare different LLMs and measure their progress over time.\\n\\n**MMLU** benchmarks to assess how well an LLM grasps the meaning and context of a given prompt or question. Whereas, **ARC** and **DROP** benchmarks evaluate an LLM\\'s ability to apply logical reasoning and solve problems. ARC stands for **Abstract Reasoning Corpus** and might involve solving puzzles or answering questions that require making inferences based on the information provided.\\n\\nDROP stands for **Dynamic Reasoning Over Paragraph** and could involve tasks like identifying the cause-and-effect relationships within a passage.\\n\\nStrong benchmarks on established tests like MMLU, ARC, and DROP indicate that Meta Llama 3 performs well in areas like language comprehension, reasoning, and potentially factual knowledge retrieval.\\n\\n### 2\\\\. Creative Text Generation\\n\\nLlama 3 has been trained on a **massive dataset** of text and code, including creative writing examples. This allows it to understand the patterns and structures of different text formats. When you provide a prompt or starting point, Llama 3 can use its knowledge to generate text that adheres to the format and style you specify.\\n\\n**[Read: Is Gemini Racist? Google’s AI Pulled Amidst Bias Allegations](https://em360tech.com/tech-articles/gemini-racist-googles-ai-pulled-amidst-bias-allegations \"Is Gemini Racist? Google’s AI Pulled Amidst Bias Allegations\")**\\n\\nLlama 3 offers a powerful tool for **sparking creative ideas** and generating drafts in various text formats. However, human input and expertise are still essential for refining or completing creative projects.\\n\\n### 3\\\\. Open-Source\\n\\nMeta\\'s decision to make Llama 3 **open-source i**s a significant development in the field of large language models (LLMs). Open-source software refers to code or models that are **freely available** for anyone to access, modify, and distribute. This allows researchers, developers, and even the general public to experiment with Llama 3, build upon it, and **contribute** to its further development.\\n\\nThis level of openness allows for both **scrutiny** and **collaboration**. Researchers can examine how Llama 3 works and identify potential biases or limitations. This fosters a collaborative environment where developers can work together to improve the model. This can accelerate innovation in the field of AI and LLM development.\\n\\n![Image 9: llama 2 vs llama 3](https://em360tech.com/sites/default/files/inline-images/llama-2-vs-llama-3.jpg)\\n\\nResearchers and students can also learn how LLMs work by studying its code and experimenting with it. This level of openness allows for ongoing discussions and evaluations regarding the ethical implications of AI development and the potential biases within the model.\\n\\n### 4\\\\. Integration\\n\\nMeta has integrated Llama 3 into their virtual assistant, \"Meta AI,\" making it able to answer questions and complete tasks with greater understanding. This also means it is available across Meta platforms like Facebook Messenger and will potentially be integrated into search features in the future.\\xa0 Ultimately it is likely that Llama will be integrated automatically in ways that benefit the user without them having to understand how they are using the LLM.\\n\\n**[Read: Google is Banning Gemini from Talking About Elections](https://em360tech.com/tech-articles/google-banning-gemini-talking-about-elections \"Google is Banning Gemini from Talking About Elections \")**\\n\\nWhat is Meta Llama 3.2?\\n-----------------------\\n\\nMeta Llama 3.2 is the latest update to the tech giants large language model. It features groundbreaking multimodal capabilities, alongside improved performance and more language support. The model is set to demonstrate a significant step forward in LLMs.\\n\\nLlama 3.2 introduces the LLM’s ‘native understanding’ of visual inputs. This means it an accurately describe an image, provide answers to questions based on a visual input as well as understand embedded images in text based documents.\\n\\nThis visual understanding will also be implemented in Meta’s AI image editing tool. This will allow users to alter an image based on text inputs, the example given at Meta Connect 2024 shows a picture of a man with the text input ‘change the shoes to neon rollerskates’.\\n\\nLlama 3.2 models can also process and generate longer pieces of text because of their expanded context length of 128K tokens.\\n\\nHow to download Llama 3.2?\\n--------------------------\\n\\nThe open source models of Llama 3.2 are available for download both on llama.com and Hugging Face. They are also available through Meta’s partner platform ecosystem including AMD, AWS, Databricks, Dell, Google Cloud, Groq, IBM, Intel, Microsoft Azure, NVIDIA, Oracle Cloud and Snowflake.\\n\\n1.  Visit llama.com\\n2.  Click ‘download models’\\n3.  Fill out your details under the ‘Request Access to Llama Models’\\n4.  Select the model you wish to download from the choices of the lightweight 1B & 3B, the multimodal 11B & 90B and the text based models, 405B, 70B & 8B.\\n5.  Review the Community License Agreement\\n6.  Click accept\\n7.  Follow the instructions to download the model\\n\\nHow to use Llama 3\\n------------------\\n\\nLlama 3 will be available on **all major platforms** including cloud providers and model API providers. You can access the Meta Llama models directly from Meta or through Hugging Face or Kaggle.\\n\\n**How to download Llama 3** from Meta**:**\\n\\n1.  Visit\\xa0[Meta’s request access form](https://llama.meta.com/llama-downloads \"(opens in a new window)\").\\n2.  Fill in your information including name, email, date of birth and country.\\n3.  Select the models that you want to access.\\n4.  Review and accept the license agreements.\\n5.  For each model, you will receive an email that contains instructions and a pre-signed URL to download.\\n\\n![Image 10: how to use meta llama 3](https://em360tech.com/sites/default/files/inline-images/how-to-use-meta-llama-3.jpg)\\n\\nMeta’s ‘[Llama Recipes](https://github.com/meta-llama/llama-recipes \"(opens in a new window)\")’ contains their open-source code that can be leveraged broadly for fine-tuning, deployment and model evaluation.\\n\\nThe arrival of Meta Llama 3 marks a significant step forward in large language model technology.\\n\\nIts focus on reasoning, creative text generation, and open-source accessibility positions it as a powerful tool for various applications. It offers a glimpse into the exciting potential of this evolving technology.\\n\\nAs research and development continue, we can expect even more advancements in the field of LLMs and the way they interact with our world.\\n\\n*      [![Image 11](https://em360tech.com/sites/default/files/simpleads/responsive/300-x-600-motm-with-headshots-2-v1.jpg)](https://em360tech.com/podcasts/meeting-of-the-minds-state-of-cybersecurity-2025-part-2)\\n\\nLearn more about AI\\n\\n![Image 12: Artificial Intelligence](https://em360tech.com/themes/custom/tech360/images/placeholder/taxonomy.png)\\n\\nArtificial Intelligence\\n\\n665 Articles 85 Podcasts\\n\\n[Explore AI](https://em360tech.com/ai-feed)\\n\\nDid you find the article helpful?\\n\\n[](https://em360tech.com/flag/flag/bookmark/29312/full?destination=/tech-articles/what-llama-3-everything-you-need-know-about-metas-new-ai&token=8At5Wi5YnOrxUiPWVitpWWtjKjomIx1Y8X-fhbU2es0 \"Like\")\\n\\n69\\n\\n[](https://em360tech.com/tech-article/what-is-llama-3#)\\n\\n0\\n\\nShare\\n\\nCopy link [Share on X](https://em360tech.com/#twitter) [Share on LinkedIn](https://em360tech.com/#linkedin)\\n\\n### Comments ( 0 )\\n\\n[](https://em360tech.com/user/login#sign)\\n\\n[](https://em360tech.com/user/login#sign)\\n\\nMore from Katie Baker\\n---------------------\\n\\n[](https://em360tech.com/user/katie-baker)\\n\\n![Image 13: Katie Baker](https://em360tech.com/sites/default/files/styles/author_image/public/linkedinImages/user-picture-4489-1706648130914.jpeg.webp?itok=JWG-W369)\\n\\n##### Katie Baker\\n\\nGuru\\n\\nContent Marketing Executive at EM360Tech\\n\\n166\\n\\n0\\n\\n0\\n\\n[Leeds United Customer Card Details Compromised In Cyber Attack](https://em360tech.com/tech-articles/leeds-united-customer-card-details-compromised-cyber-attack)\\n\\nTech Article\\n\\n##### [Leeds United Customer Card Details Compromised In Cyber Attack](https://em360tech.com/tech-articles/leeds-united-customer-card-details-compromised-cyber-attack)\\n\\nby Katie Baker\\n\\n2 min\\n\\n![Image 14: Leeds United Customer Card Cyber Attack ](https://em360tech.com/sites/default/files/styles/medium/public/2025-03/leeds-united-cyber-attack.jpg.webp?itok=m_5GVVph)\\n\\n[Cybercriminals Stole &amp; Resold Eras Tour Tickets](https://em360tech.com/tech-articles/cybercriminals-stole-resold-eras-tour-tickets)\\n\\nTech Article\\n\\n##### [Cybercriminals Stole & Resold Eras Tour Tickets](https://em360tech.com/tech-articles/cybercriminals-stole-resold-eras-tour-tickets)\\n\\nby Katie Baker\\n\\n2 min\\n\\n![Image 15: Cybercriminals Resold Eras Tour Tickets](https://em360tech.com/sites/default/files/styles/medium/public/2025-03/stolen-eras-tour-tickets-resold.jpg.webp?itok=Zlh85u33)\\n\\n[Meta Launches Anti-Scam Facial Recognition In UK](https://em360tech.com/tech-articles/meta-launches-anti-scam-facial-recognition-uk)\\n\\nTech Article\\n\\n##### [Meta Launches Anti-Scam Facial Recognition In UK](https://em360tech.com/tech-articles/meta-launches-anti-scam-facial-recognition-uk)\\n\\nby Katie Baker\\n\\n2 min\\n\\n![Image 16: meta anti scam facial recognition in the uk](https://em360tech.com/sites/default/files/styles/medium/public/2025-03/meta-anti-scam-facial-recognition-technology.jpg.webp?itok=jk6ZFaqK)\\n\\n[Planned Obsolescence Explained: Why Your Tech Is Designed To Fail](https://em360tech.com/tech-articles/planned-obsolescence-explained-why-your-tech-designed-fail)\\n\\nTech Article\\n\\n##### [Planned Obsolescence Explained: Why Your Tech Is Designed To Fail](https://em360tech.com/tech-articles/planned-obsolescence-explained-why-your-tech-designed-fail)\\n\\nby Katie Baker\\n\\n3 min\\n\\n![Image 17: what is planned obsolescene](https://em360tech.com/sites/default/files/styles/medium/public/2025-03/what-is-planned-obsolescence.jpg.webp?itok=hNlRZ89W)\\n\\n[Explore more](https://em360tech.com/user/katie-baker)\\n\\nRecommended for you\\n-------------------\\n\\n[Takeaways From Fall Conferences - Al Evolution for EX and CX, Getting Workers Back to the Office, and Future of Work Expo](https://em360tech.com/podcasts/fall-conferences-takeaways-ai-evolution-ex-cx-back-to-office-future-of-work)\\n\\n![Image 18: watch this space podcast with jon arnold](https://em360tech.com/sites/default/files/styles/content_card_primary/public/2025-03/jon-arnold-podcast-logo.jpg.webp?itok=Zd9pevsn)\\n\\nPodcast\\n\\nInfrastructure Management\\n\\n#### Takeaways From Fall Conferences - Al Evolution for EX and CX, Getting Workers Back to the Office, and Future of Work Expo\\n\\nby Jon Arnold\\n\\n1 min\\n\\n[What is GPT-4.5? A Guide to OpenAI&#039;s Latest Model](https://em360tech.com/tech-articles/what-gpt-45-guide-openais-latest-model)\\n\\n[Tech Article](https://em360tech.com/admin/structure/types/manage/tech_news)\\n\\n##### [What is GPT-4.5? A Guide to OpenAI\\'s Latest Model](https://em360tech.com/tech-articles/what-gpt-45-guide-openais-latest-model)\\n\\nby Katie Baker\\n\\n2 min\\n\\n![Image 19: what is gpt-4.5](https://em360tech.com/sites/default/files/styles/content_card_secondary/public/2025-03/what-is-gpt-4.5.jpg.webp?itok=X-U2My4X)\\n\\n[AI Agents Will Know Your “Intentions” Before You Do. It’s Called “Intention Economy”](https://em360tech.com/tech-articles/ai-agents-will-know-your-intentions-you-do-its-called-intention-economy)\\n\\n[Tech Article](https://em360tech.com/admin/structure/types/manage/tech_news)\\n\\n##### [AI Agents Will Know Your “Intentions” Before You Do. It’s Called “Intention Economy”](https://em360tech.com/tech-articles/ai-agents-will-know-your-intentions-you-do-its-called-intention-economy)\\n\\nby Shubhangi Dua\\n\\n5 min\\n\\n![Image 20: ai agents know your intentions before you do. it\\'s called Intention Economy](https://em360tech.com/sites/default/files/styles/content_card_secondary/public/2025-01/ai-agents-know-your-intentions-before-you-do.jpg.webp?itok=_9ndqr7X)\\n\\n[What is Alexa+? Amazon’s AI Upgrade](https://em360tech.com/tech-article/what-is-alexa%2B)\\n\\n[Tech Article](https://em360tech.com/admin/structure/types/manage/tech_news)\\n\\n##### [What is Alexa+? Amazon’s AI Upgrade](https://em360tech.com/tech-article/what-is-alexa%2B)\\n\\nby Katie Baker\\n\\n3 min\\n\\n![Image 21: what is alexa+](https://em360tech.com/sites/default/files/styles/content_card_secondary/public/2025-02/what-is-alexa.jpg.webp?itok=5Jw0ymqX)\\n\\n[What is a Large Language Model (LLM)? Definition, Examples, Use Cases](https://em360tech.com/tech-articles/what-large-language-model-llm-definition-examples-use-cases)\\n\\n[Tech Article](https://em360tech.com/admin/structure/types/manage/tech_news)\\n\\n##### [What is a Large Language Model (LLM)? Definition, Examples, Use Cases](https://em360tech.com/tech-articles/what-large-language-model-llm-definition-examples-use-cases)\\n\\nby Ellis Stewart\\n\\n8 min\\n\\n![Image 22: what is a large language model (LLM)](https://em360tech.com/sites/default/files/styles/content_card_secondary/public/2024-10/what-is-a-large-language-model-llm.jpg.webp?itok=7hLbIcut)\\n\\n[Explore All](https://em360tech.com/ai-feed)\\n\\n![Image 23: em360tech.com](https://em360tech.com/themes/custom/tech360/images/logos/site-logo-black.png)\\n\\nAccess the latest analyst-led podcasts, tech articles, and industry resources as you connect with some of the brightest minds in enterprise tech.\\n\\n*   [![Image 24: x-icon](https://em360tech.com/themes/custom/tech360/images/icons/social/x-twitter.svg)](https://x.com/EM360Tech \"(opens in a new window)\")\\n*   [![Image 25: linkedin-icon](https://em360tech.com/themes/custom/tech360/images/icons/social/linkedin.svg)](https://www.linkedin.com/company/em360/ \"(opens in a new window)\")\\n*   [![Image 26: youtube-icon](https://em360tech.com/themes/custom/tech360/images/icons/social/youtube.svg)](https://www.youtube.com/channel/UCNCS0CL4v38JWbNaqnn0G4w \"(opens in a new window)\")\\n\\n##### Topics\\n\\n*   [AI](https://em360tech.com/ai-feed)\\n*   [Data](https://em360tech.com/data-feed)\\n*   [Emerging Technologies](https://em360tech.com/emerging-technologies-feed)\\n*   [Infrastructure Management](https://em360tech.com/infrastructure-management-feed)\\n*   [Security](https://em360tech.com/security-feed)\\n\\n##### Resources\\n\\n*   [Articles](https://em360tech.com/tech-articles)\\n*   [Podcasts](https://em360tech.com/podcasts)\\n*   [Top 10s](https://em360tech.com/top-10)\\n*   [Videos](https://em360tech.com/video-resources)\\n*   [Whitepapers](https://em360tech.com/whitepapers)\\n\\n##### Collaborators\\n\\n*   [Events](https://em360tech.com/events)\\n*   [Experts](https://em360tech.com/industry-leaders)\\n*   [Media Partners](https://em360tech.com/media-partners)\\n*   [Solution Providers](https://em360tech.com/solution-providers)\\n\\n##### Company\\n\\n*   [About](https://em360tech.com/about-us)\\n*   [Blogs](https://em360tech.com/blogs)\\n*   [FAQ](https://em360tech.com/faqs)\\n*   [Our Services](https://em360tech.com/our-services)\\n\\n##### Subscribe to the EM360Tech Newsletter\\n\\nName \\n\\nE-mail \\n\\n  \\n\\n*   [Contact Us](https://em360tech.com/form/contact)\\n*   [Our Services](https://em360tech.com/our-services)\\n*   [Blogs](https://em360tech.com/blogs)\\n*   [Privacy Policy](https://em360tech.com/privacy-policy \"Privacy Policy\")\\n*   [Editorial Policy](https://em360tech.com/editorial-policy)\\n*   [GDPR Policy](https://em360tech.com/gdpr-policy \"GDPR Policy\")\\n*   [Sitemap](https://em360tech.com/sitemap \"Sitemap\")\\n\\nAll rights reserved. ©2025\\n\\nEnterprise Management 360\\n\\n✓\\n\\nThanks for sharing!\\n\\n[AddToAny](https://www.addtoany.com/ \"Share Buttons\")\\n\\n[More…](https://em360tech.com/tech-article/what-is-llama-3#addtoany \"Show all\")\\n\\nLink copied\\n\\nClose\\n\\n![Image 27: Home](https://em360tech.com/themes/custom/tech360/images/logos/site-logo-black.png)\\n\\nGet Started\\n-----------\\n\\n*   Create Account\\n*   Sign In\\n\\n###### Individual\\n\\n*   Access expert IT resources for free\\n*   Discover actionable insights from industry experts\\n*   Network with IT professionals and grow your network\\n*   Unlock exclusive analyst-led content\\n*   Share your thoughts with our global IT community\\n\\n###### Business\\n\\nComing Soon...\\n\\n*   Access free expert IT resources\\n*   Network with professionals and industry leaders\\n*   Gain exclusive insights from a global IT community\\n\\nUsername \\n\\nPassword \\n\\n \\n\\nOr\\n\\n \\n\\nSign up with LinkedIn\\n\\n[Signup as business](https://em360tech.com/tech-article/what-is-llama-3#)\\n\\nAlready have account? Login\\n\\n[Privacy Policy](https://em360tech.com/privacy-policy)\\n\\n[Contact us](https://em360tech.com/contact)\\n'"
      ]
     },
     "execution_count": 51,
     "metadata": {},
     "output_type": "execute_result"
    }
   ],
   "source": [
    "content"
   ]
  },
  {
   "cell_type": "markdown",
   "id": "8fde00dd-2d9e-4fa6-b006-0ee0aac53082",
   "metadata": {},
   "source": [
    "## Split the texts"
   ]
  },
  {
   "cell_type": "code",
   "execution_count": 52,
   "id": "5c005dd7-c84f-4269-a4b5-9db5c5cbad7d",
   "metadata": {},
   "outputs": [],
   "source": [
    "from langchain_text_splitters import MarkdownHeaderTextSplitter\n",
    "from langchain_text_splitters import RecursiveCharacterTextSplitter\n",
    "from litellm import completion"
   ]
  },
  {
   "cell_type": "code",
   "execution_count": 53,
   "id": "ae087266-156b-4a10-ba22-26bd0cb2e2b2",
   "metadata": {},
   "outputs": [],
   "source": [
    "token_size = 150\n",
    "text_splitter = RecursiveCharacterTextSplitter.from_tiktoken_encoder(\n",
    "            model_name=\"gpt-4\",\n",
    "            chunk_size=token_size,\n",
    "            chunk_overlap=0,\n",
    "        )"
   ]
  },
  {
   "cell_type": "code",
   "execution_count": 54,
   "id": "4b5d1d70-51cb-421c-9c60-d6f663831665",
   "metadata": {},
   "outputs": [],
   "source": [
    "def clean_text(text):\n",
    "    # Remove all newline characters\n",
    "    text = text.replace('\\n', ' ').replace('\\r', ' ')\n",
    "    \n",
    "    # Replace multiple spaces with a single space\n",
    "    text = re.sub(r'\\s+', ' ', text)\n",
    "    \n",
    "    # Strip leading and trailing spaces\n",
    "    text = text.strip()\n",
    "    \n",
    "    return text"
   ]
  },
  {
   "cell_type": "code",
   "execution_count": 55,
   "id": "2878fe14-0e33-4cd8-966a-57fc2d89c82e",
   "metadata": {},
   "outputs": [
    {
     "name": "stdout",
     "output_type": "stream",
     "text": [
      "Total chunks: 79\n"
     ]
    }
   ],
   "source": [
    "text_chunks = text_splitter.split_text(content)\n",
    "print(f\"Total chunks: {len(text_chunks)}\")"
   ]
  },
  {
   "cell_type": "code",
   "execution_count": 56,
   "id": "6d95465d-0d3f-4912-a460-793db2c7f4dc",
   "metadata": {},
   "outputs": [
    {
     "data": {
      "text/plain": [
       "'Title: What is Meta\\'s Llama 3? Everything you Need to Know\\n\\nURL Source: https://em360tech.com/tech-article/what-is-llama-3\\n\\nMarkdown Content:\\nWhat is Meta\\'s Llama 3? Everything you Need to Know | Enterprise Tech News EM360Tech\\n===============\\n\\n[Skip to main content](https://em360tech.com/tech-article/what-is-llama-3#main-content)\\n\\n[![Image 3: Home](https://em360tech.com/themes/custom/tech360/images/logos/site-logo-black-100.webp)](https://em360tech.com/ \"Home\")\\n\\nTopics\\n\\nAI Data Emerging Technologies Infrastructure Management Security In The News'"
      ]
     },
     "execution_count": 56,
     "metadata": {},
     "output_type": "execute_result"
    }
   ],
   "source": [
    "text_chunks[0]"
   ]
  },
  {
   "cell_type": "code",
   "execution_count": 57,
   "id": "34c0593c-1853-40b9-8f4d-b018faaaa8e4",
   "metadata": {},
   "outputs": [],
   "source": [
    "def get_embeddings(texts, model=\"text-embedding-3-small\", api_key=\"your-api-key\"):\n",
    "    # Define the API URL\n",
    "    url = \"https://api.openai.com/v1/embeddings\"\n",
    "    \n",
    "    # Prepare headers with the API key\n",
    "    headers = {\n",
    "        \"Content-Type\": \"application/json\",\n",
    "        \"Authorization\": f\"Bearer {api_key}\"\n",
    "    }\n",
    "    \n",
    "    # Prepare the request body\n",
    "    data = {\n",
    "        \"input\": texts,\n",
    "        \"model\": model\n",
    "    }\n",
    "    \n",
    "    # Send a POST request to the OpenAI API\n",
    "    response = requests.post(url, headers=headers, data=json.dumps(data))\n",
    "    \n",
    "    # Check if the request was successful\n",
    "    if response.status_code == 200:\n",
    "        # Return the embeddings from the response\n",
    "        return response.json()[\"data\"]\n",
    "    else:\n",
    "        # Print error if the request fails\n",
    "        print(f\"Error {response.status_code}: {response.text}\")\n",
    "        return None"
   ]
  },
  {
   "cell_type": "code",
   "execution_count": 58,
   "id": "f2b2ff15-b577-43ba-ad6c-f2c3165249f6",
   "metadata": {},
   "outputs": [],
   "source": [
    "from langchain_elasticsearch import ElasticsearchStore\n",
    "\n",
    "def ingest_data_into_es(texts):\n",
    "    if not es.indices.exists(index=elastic_index_name):\n",
    "        print(\"The index does not exist, going to generate embeddings\")   \n",
    "        docsearch = ElasticsearchStore.from_texts( \n",
    "            texts,\n",
    "            embedding = embeddings, \n",
    "            es_url = url, \n",
    "            es_connection = es,\n",
    "            index_name = elastic_index_name, \n",
    "            es_user = ES_USER,\n",
    "            es_password = ES_PASSWORD\n",
    "    )\n",
    "    else: \n",
    "        print(\"The index already existed\")\n",
    "    \n",
    "        docsearch = ElasticsearchStore(\n",
    "            es_connection=es,\n",
    "            embedding=embeddings,\n",
    "            es_url = url, \n",
    "            index_name = elastic_index_name, \n",
    "            es_user = ES_USER,\n",
    "            es_password = ES_PASSWORD    \n",
    "        )\n",
    "\n",
    "    return docsearch\n",
    "    "
   ]
  },
  {
   "cell_type": "code",
   "execution_count": 59,
   "id": "75bca4ca-dd8f-4d50-bb5b-a8709db992eb",
   "metadata": {},
   "outputs": [
    {
     "name": "stdout",
     "output_type": "stream",
     "text": [
      "The index already existed\n"
     ]
    }
   ],
   "source": [
    "docsearch = ingest_data_into_es(text_chunks)"
   ]
  },
  {
   "cell_type": "markdown",
   "id": "892195f1-e07d-4adf-8fc7-4de9dd03a7ab",
   "metadata": {},
   "source": [
    "# Search for questions"
   ]
  },
  {
   "cell_type": "code",
   "execution_count": 60,
   "id": "8cacfe61-d978-4a94-a570-179ccc26d94e",
   "metadata": {},
   "outputs": [],
   "source": [
    "def search(str):\n",
    "    docs = docsearch.similarity_search(str)\n",
    "    return docs"
   ]
  },
  {
   "cell_type": "code",
   "execution_count": 61,
   "id": "0759f537-f3cc-4730-8a35-3f967dde258e",
   "metadata": {},
   "outputs": [
    {
     "name": "stdout",
     "output_type": "stream",
     "text": [
      "Found docs:  4\n",
      "[Document(metadata={}, page_content=\"##### [What is GPT-4.5? A Guide to OpenAI's Latest Model](https://em360tech.com/tech-articles/what-gpt-45-guide-openais-latest-model)\\n\\nby Katie Baker\\n\\n2 min\\n\\n![Image 18: what is gpt-4.5](https://em360tech.com/sites/default/files/styles/content_card_secondary/public/2025-03/what-is-gpt-4.5.jpg.webp?itok=X-U2My4X)\"), Document(metadata={}, page_content=\"[What is GPT-4.5? A Guide to OpenAI's Latest Model](https://em360tech.com/tech-articles/what-gpt-45-guide-openais-latest-model)\\n\\nTech Article\\n\\n#### What is GPT-4.5? A Guide to OpenAI's Latest Model\\n\\nby Katie Baker\\n\\n2 min\\n\\n[What is Alexa+? Amazon’s AI Upgrade](https://em360tech.com/tech-article/what-is-alexa%2B)\\n\\nTech Article\\n\\n#### What is Alexa+? Amazon’s AI Upgrade\\n\\nby Katie Baker\\n\\n3 min\\n\\n[Explore all](https://em360tech.com/ai-feed)\"), Document(metadata={}, page_content='![Image 17: ema](https://em360tech.com/sites/default/files/styles/content_card_primary/public/2025-03/eae-podcast-logo.jpg.webp?itok=ih7-bInu)\\n\\nPodcast\\n\\nAI\\n\\n#### Episode 10 – AI and Observability in Workload Automation and Orchestration\\n\\nby Dan Twing\\n\\n1 min\\n\\n[What is GPT-4.5? A Guide to OpenAI&#039;s Latest Model](https://em360tech.com/tech-articles/what-gpt-45-guide-openais-latest-model)\\n\\n[Tech Article](https://em360tech.com/admin/structure/types/manage/tech_news)'), Document(metadata={}, page_content='This level of openness allows for both **scrutiny** and **collaboration**. Researchers can examine how Llama 3 works and identify potential biases or limitations. This fosters a collaborative environment where developers can work together to improve the model. This can accelerate innovation in the field of AI and LLM development.\\n\\n![Image 9: llama 2 vs llama 3](https://em360tech.com/sites/default/files/inline-images/llama-2-vs-llama-3.jpg)')]\n"
     ]
    }
   ],
   "source": [
    "question = \"what is openai o1 model?\"\n",
    "docs = search(question)\n",
    "print(\"Found docs: \", len(docs))\n",
    "print(docs)"
   ]
  },
  {
   "cell_type": "code",
   "execution_count": 62,
   "id": "ca41a21e-0989-4308-a9a4-7b135d6e04a4",
   "metadata": {},
   "outputs": [
    {
     "name": "stdout",
     "output_type": "stream",
     "text": [
      "##### [What is GPT-4.5? A Guide to OpenAI's Latest Model](https://em360tech.com/tech-articles/what-gpt-45-guide-openais-latest-model)\n",
      "\n",
      "by Katie Baker\n",
      "\n",
      "2 min\n",
      "\n",
      "![Image 18: what is gpt-4.5](https://em360tech.com/sites/default/files/styles/content_card_secondary/public/2025-03/what-is-gpt-4.5.jpg.webp?itok=X-U2My4X)\n",
      "\n",
      "[What is GPT-4.5? A Guide to OpenAI's Latest Model](https://em360tech.com/tech-articles/what-gpt-45-guide-openais-latest-model)\n",
      "\n",
      "Tech Article\n",
      "\n",
      "#### What is GPT-4.5? A Guide to OpenAI's Latest Model\n",
      "\n",
      "by Katie Baker\n",
      "\n",
      "2 min\n",
      "\n",
      "[What is Alexa+? Amazon’s AI Upgrade](https://em360tech.com/tech-article/what-is-alexa%2B)\n",
      "\n",
      "Tech Article\n",
      "\n",
      "#### What is Alexa+? Amazon’s AI Upgrade\n",
      "\n",
      "by Katie Baker\n",
      "\n",
      "3 min\n",
      "\n",
      "[Explore all](https://em360tech.com/ai-feed)\n",
      "\n",
      "![Image 17: ema](https://em360tech.com/sites/default/files/styles/content_card_primary/public/2025-03/eae-podcast-logo.jpg.webp?itok=ih7-bInu)\n",
      "\n",
      "Podcast\n",
      "\n",
      "AI\n",
      "\n",
      "#### Episode 10 – AI and Observability in Workload Automation and Orchestration\n",
      "\n",
      "by Dan Twing\n",
      "\n",
      "1 min\n",
      "\n",
      "[What is GPT-4.5? A Guide to OpenAI&#039;s Latest Model](https://em360tech.com/tech-articles/what-gpt-45-guide-openais-latest-model)\n",
      "\n",
      "[Tech Article](https://em360tech.com/admin/structure/types/manage/tech_news)\n",
      "\n",
      "This level of openness allows for both **scrutiny** and **collaboration**. Researchers can examine how Llama 3 works and identify potential biases or limitations. This fosters a collaborative environment where developers can work together to improve the model. This can accelerate innovation in the field of AI and LLM development.\n",
      "\n",
      "![Image 9: llama 2 vs llama 3](https://em360tech.com/sites/default/files/inline-images/llama-2-vs-llama-3.jpg)\n"
     ]
    }
   ],
   "source": [
    "def format_docs(docs):\n",
    "    return \"\\n\\n\".join(doc.page_content for doc in docs)\n",
    "\n",
    "print(format_docs(docs))"
   ]
  },
  {
   "cell_type": "markdown",
   "id": "17a6db49-a39f-4c9a-ba77-0621173d6068",
   "metadata": {},
   "source": [
    "# Prompts\n",
    "\n",
    "1. First prompt will check to see if the *retrieved context* can answer the user question.\n",
    "2. Second prompt will get the context and question and generates the response."
   ]
  },
  {
   "cell_type": "markdown",
   "id": "a661fb9b-c61c-4f8f-bed3-71d3622464aa",
   "metadata": {},
   "source": [
    "## First Prompt"
   ]
  },
  {
   "cell_type": "code",
   "execution_count": 63,
   "id": "2b6cb2c1-8778-477b-9427-096ef14a2b4d",
   "metadata": {},
   "outputs": [],
   "source": [
    "decision_system_prompt = \"\"\"Your job is decide if a given question can be answered with a given context. \n",
    "If context can answer the question return 1.\n",
    "If not return 0.\n",
    "\n",
    "Do not return anything else except for 0 or 1.\n",
    "\n",
    "Context: {context}\n",
    "\"\"\"\n",
    "\n",
    "user_prompt = \"\"\"\n",
    "Question: {question}\n",
    "\n",
    "Answer:\"\"\""
   ]
  },
  {
   "cell_type": "markdown",
   "id": "c87da197-4516-47a5-8c78-2f5101a4488b",
   "metadata": {},
   "source": [
    "## Second Prompt"
   ]
  },
  {
   "cell_type": "code",
   "execution_count": 64,
   "id": "46f9c6e4-857b-4d1c-a12e-e5406d4326a2",
   "metadata": {},
   "outputs": [],
   "source": [
    "system_prompt = \"\"\"You are an expert for answering questions. Answer the question according only to the given context.\n",
    "If question cannot be answered using the context, simply say I don't know. Do not make stuff up.\n",
    "Your answer MUST be informative, concise, and action driven. Your response must be in Markdown.\n",
    "\n",
    "Context: {context}\n",
    "\"\"\"\n",
    "\n",
    "user_prompt = \"\"\"\n",
    "Question: {question}\n",
    "\n",
    "Answer:\"\"\""
   ]
  },
  {
   "cell_type": "markdown",
   "id": "e6446152-ce5d-4b31-843d-3f8729d4f24c",
   "metadata": {},
   "source": [
    "## Ask questions"
   ]
  },
  {
   "cell_type": "code",
   "execution_count": 65,
   "id": "0a20fbcb-2c1e-4fcc-ae94-c391b6981546",
   "metadata": {},
   "outputs": [],
   "source": [
    "def azure_openai_completion(question, context, is_system_prompt=False):\n",
    "    prompt = system_prompt if is_system_prompt else decision_system_prompt\n",
    "    summary = chat.chat.completions.create(\n",
    "        model = AZURE_DEPLOYMENT_ID,\n",
    "        messages=[\n",
    "                {\"role\": \"system\", \"content\": prompt.format(context=context) },\n",
    "                {\"role\": \"user\", \"content\": user_prompt.format(question=question)},\n",
    "            ]\n",
    "    )\n",
    "\n",
    "    print(summary)\n",
    "    return summary\n",
    "\n",
    "def deepseek_openai_completion(question, context, is_system_prompt=False):\n",
    "    prompt = system_prompt if is_system_prompt else decision_system_prompt\n",
    "    summary = openai_client.chat.completions.create(\n",
    "        model='deepseek-chat',\n",
    "        messages=[\n",
    "            {\"role\": \"system\", \"content\": prompt.format(context=context) },\n",
    "            {\"role\": \"user\", \"content\":user_prompt.format(question=question)},\n",
    "        ],\n",
    "        stream=False\n",
    "    )\n",
    "    print(summary)\n",
    "    return summary\n"
   ]
  },
  {
   "cell_type": "code",
   "execution_count": 66,
   "id": "792c1523-b8b0-4723-99ce-7a2d01d7e9df",
   "metadata": {},
   "outputs": [
    {
     "name": "stdout",
     "output_type": "stream",
     "text": [
      "ChatCompletion(id='b713e48a-cdae-4519-89d1-548954bf098d', choices=[Choice(finish_reason='stop', index=0, logprobs=None, message=ChatCompletionMessage(content='1', refusal=None, role='assistant', audio=None, function_call=None, tool_calls=None))], created=1741763822, model='deepseek-chat', object='chat.completion', service_tier=None, system_fingerprint='fp_3a5770e1b4_prod0225', usage=CompletionUsage(completion_tokens=1, prompt_tokens=541, total_tokens=542, completion_tokens_details=None, prompt_tokens_details=PromptTokensDetails(audio_tokens=None, cached_tokens=0), prompt_cache_hit_tokens=0, prompt_cache_miss_tokens=541))\n"
     ]
    },
    {
     "data": {
      "text/plain": [
       "'1'"
      ]
     },
     "execution_count": 66,
     "metadata": {},
     "output_type": "execute_result"
    }
   ],
   "source": [
    "# question = \"what is openai o1 model\"\n",
    "question = \"what is Llama 3?\"\n",
    "results = search(question)\n",
    "context = format_docs(results)\n",
    "# response = azure_openai_completion(question, context)\n",
    "response = deepseek_openai_completion(question, context)\n",
    "\n",
    "has_answer = response.choices[0].message.content\n",
    "has_answer"
   ]
  },
  {
   "cell_type": "code",
   "execution_count": 67,
   "id": "4f71d9a4-8b74-4741-b0d4-5f92bb8cea93",
   "metadata": {},
   "outputs": [
    {
     "name": "stdout",
     "output_type": "stream",
     "text": [
      "ChatCompletion(id='7212506a-3a65-43b3-b155-93468e8e2146', choices=[Choice(finish_reason='stop', index=0, logprobs=None, message=ChatCompletionMessage(content='0', refusal=None, role='assistant', audio=None, function_call=None, tool_calls=None))], created=1741763838, model='deepseek-chat', object='chat.completion', service_tier=None, system_fingerprint='fp_3a5770e1b4_prod0225', usage=CompletionUsage(completion_tokens=1, prompt_tokens=563, total_tokens=564, completion_tokens_details=None, prompt_tokens_details=PromptTokensDetails(audio_tokens=None, cached_tokens=512), prompt_cache_hit_tokens=512, prompt_cache_miss_tokens=51))\n"
     ]
    },
    {
     "data": {
      "text/plain": [
       "'0'"
      ]
     },
     "execution_count": 67,
     "metadata": {},
     "output_type": "execute_result"
    }
   ],
   "source": [
    "# question = \"what is Llama 3?\"\n",
    "# question = \"what is openai o1 model\"\n",
    "# question = \"中国最长的河流是那条河？\"\n",
    "question = \"What is the latest version of Elastic Stack？\"\n",
    "results = search(question)\n",
    "context = format_docs(results)\n",
    "response = deepseek_openai_completion(question, context)\n",
    "\n",
    "has_answer = response.choices[0].message.content\n",
    "has_answer"
   ]
  },
  {
   "cell_type": "markdown",
   "id": "ef26d7b4-9f92-45d5-8f75-c5a8e8026824",
   "metadata": {},
   "source": [
    "# Check to see if retrieved context can answer the question or not"
   ]
  },
  {
   "cell_type": "code",
   "execution_count": 68,
   "id": "9213c5a5-c8f7-49cb-975b-dbdbc8320755",
   "metadata": {},
   "outputs": [],
   "source": [
    "from IPython.display import Markdown, display\n",
    "from duckduckgo_search import DDGS"
   ]
  },
  {
   "cell_type": "code",
   "execution_count": 69,
   "id": "58a0852e-2e07-4636-8f8d-050a269780d9",
   "metadata": {},
   "outputs": [
    {
     "name": "stdout",
     "output_type": "stream",
     "text": [
      "Question: What is the latest version of Elastic Stack？\n",
      "Context is NOT relevant. Searching online...\n",
      "Found online sources. Generating the response...\n"
     ]
    },
    {
     "ename": "NameError",
     "evalue": "name 'chat' is not defined",
     "output_type": "error",
     "traceback": [
      "\u001b[0;31m---------------------------------------------------------------------------\u001b[0m",
      "\u001b[0;31mNameError\u001b[0m                                 Traceback (most recent call last)",
      "Cell \u001b[0;32mIn[69], line 16\u001b[0m\n\u001b[1;32m     14\u001b[0m context \u001b[38;5;241m=\u001b[39m format_search_results(results)\n\u001b[1;32m     15\u001b[0m \u001b[38;5;28mprint\u001b[39m(\u001b[38;5;124m\"\u001b[39m\u001b[38;5;124mFound online sources. Generating the response...\u001b[39m\u001b[38;5;124m\"\u001b[39m)\n\u001b[0;32m---> 16\u001b[0m response \u001b[38;5;241m=\u001b[39m \u001b[43mazure_openai_completion\u001b[49m\u001b[43m(\u001b[49m\u001b[43mquestion\u001b[49m\u001b[43m,\u001b[49m\u001b[43m \u001b[49m\u001b[43mcontext\u001b[49m\u001b[43m,\u001b[49m\u001b[43m \u001b[49m\u001b[38;5;28;43;01mTrue\u001b[39;49;00m\u001b[43m)\u001b[49m\n\u001b[1;32m     17\u001b[0m \u001b[38;5;28mprint\u001b[39m(\u001b[38;5;124m\"\u001b[39m\u001b[38;5;124mAnswer:\u001b[39m\u001b[38;5;124m\"\u001b[39m)\n\u001b[1;32m     18\u001b[0m display(Markdown(response\u001b[38;5;241m.\u001b[39mchoices[\u001b[38;5;241m0\u001b[39m]\u001b[38;5;241m.\u001b[39mmessage\u001b[38;5;241m.\u001b[39mcontent))\n",
      "Cell \u001b[0;32mIn[65], line 3\u001b[0m, in \u001b[0;36mazure_openai_completion\u001b[0;34m(question, context, is_system_prompt)\u001b[0m\n\u001b[1;32m      1\u001b[0m \u001b[38;5;28;01mdef\u001b[39;00m \u001b[38;5;21mazure_openai_completion\u001b[39m(question, context, is_system_prompt\u001b[38;5;241m=\u001b[39m\u001b[38;5;28;01mFalse\u001b[39;00m):\n\u001b[1;32m      2\u001b[0m     prompt \u001b[38;5;241m=\u001b[39m system_prompt \u001b[38;5;28;01mif\u001b[39;00m is_system_prompt \u001b[38;5;28;01melse\u001b[39;00m decision_system_prompt\n\u001b[0;32m----> 3\u001b[0m     summary \u001b[38;5;241m=\u001b[39m \u001b[43mchat\u001b[49m\u001b[38;5;241m.\u001b[39mchat\u001b[38;5;241m.\u001b[39mcompletions\u001b[38;5;241m.\u001b[39mcreate(\n\u001b[1;32m      4\u001b[0m         model \u001b[38;5;241m=\u001b[39m AZURE_DEPLOYMENT_ID,\n\u001b[1;32m      5\u001b[0m         messages\u001b[38;5;241m=\u001b[39m[\n\u001b[1;32m      6\u001b[0m                 {\u001b[38;5;124m\"\u001b[39m\u001b[38;5;124mrole\u001b[39m\u001b[38;5;124m\"\u001b[39m: \u001b[38;5;124m\"\u001b[39m\u001b[38;5;124msystem\u001b[39m\u001b[38;5;124m\"\u001b[39m, \u001b[38;5;124m\"\u001b[39m\u001b[38;5;124mcontent\u001b[39m\u001b[38;5;124m\"\u001b[39m: prompt\u001b[38;5;241m.\u001b[39mformat(context\u001b[38;5;241m=\u001b[39mcontext) },\n\u001b[1;32m      7\u001b[0m                 {\u001b[38;5;124m\"\u001b[39m\u001b[38;5;124mrole\u001b[39m\u001b[38;5;124m\"\u001b[39m: \u001b[38;5;124m\"\u001b[39m\u001b[38;5;124muser\u001b[39m\u001b[38;5;124m\"\u001b[39m, \u001b[38;5;124m\"\u001b[39m\u001b[38;5;124mcontent\u001b[39m\u001b[38;5;124m\"\u001b[39m: user_prompt\u001b[38;5;241m.\u001b[39mformat(question\u001b[38;5;241m=\u001b[39mquestion)},\n\u001b[1;32m      8\u001b[0m             ]\n\u001b[1;32m      9\u001b[0m     )\n\u001b[1;32m     11\u001b[0m     \u001b[38;5;28mprint\u001b[39m(summary)\n\u001b[1;32m     12\u001b[0m     \u001b[38;5;28;01mreturn\u001b[39;00m summary\n",
      "\u001b[0;31mNameError\u001b[0m: name 'chat' is not defined"
     ]
    }
   ],
   "source": [
    "def format_search_results(results):\n",
    "    return \"\\n\\n\".join(doc[\"body\"] for doc in results)\n",
    "    \n",
    "\n",
    "print(f\"Question: {question}\")\n",
    "if has_answer == '1':\n",
    "    print(\"Context can answer the question\")\n",
    "    response = deepseek_openai_completion(question, context, True)\n",
    "    print(\"Answer:\")\n",
    "    display(Markdown(response.choices[0].message.content))\n",
    "else:\n",
    "    print(\"Context is NOT relevant. Searching online...\")\n",
    "    results = DDGS().text(question, max_results=5)\n",
    "    context = format_search_results(results)\n",
    "    print(\"Found online sources. Generating the response...\")\n",
    "    response = deepseek_openai_completion(question, context, True)\n",
    "    print(\"Answer:\")\n",
    "    display(Markdown(response.choices[0].message.content))\n",
    "    "
   ]
  },
  {
   "cell_type": "code",
   "execution_count": null,
   "id": "e8d1a751-01d3-436c-865b-6174fe0a3afa",
   "metadata": {},
   "outputs": [],
   "source": [
    "# !pip install -U duckduckgo_search"
   ]
  },
  {
   "cell_type": "code",
   "execution_count": 182,
   "id": "cb19a39a-bfd0-4dd0-ae35-d9d774fbe1c8",
   "metadata": {},
   "outputs": [
    {
     "name": "stdout",
     "output_type": "stream",
     "text": [
      "[{'title': '北京天气预报,北京7天天气预报,北京15天天气预报,北京天气查询', 'href': 'https://www.weather.com.cn/weather/101010100.shtml', 'body': '北京天气预报，及时准确发布中央气象台天气信息，便捷查询北京今日天气，北京周末天气，北京一周天气预报，北京蓝天预报，北京天气预报，北京40日天气预报，还提供北京的生活指数、健康指数、交通指数、旅游指数，及时发布北京气象预警信号、各类气象资讯。'}, {'title': '【北京今天天气预报】北京天气预报24小时详情_北京天气网', 'href': 'https://www.tianqi.com/beijing/today/', 'body': '北京天气网为您提供北京天气预报24小时详情、北京今日天气预报，包括今日实时温度、24小时降水概率、湿度、pm2.5、风向、紫外线强度等，助您放心出行。 ... 宫保鸡丁做法家常简单做法 宫保鸡丁的最简单做法 ... 元宵节是怎么来的故事传说 元宵节的由来 ...'}, {'title': '北京今天阴有零星小雨，山区小雨夹雪，最高气温9℃_腾讯新闻', 'href': 'https://news.qq.com/rain/a/20250307A01F8900', 'body': '北京市气象台3月7日6时发布 天气预报：今天白天阴有零星小雨，山区小雨夹雪，北转南风二三级，最高气温9℃；夜间阴转晴，南转北风一二级 ...'}, {'title': '【北京天气】北京今天天气预报,今天,今天天气,7天,15天天气预报,天气预报一周,天气预报15天查询', 'href': 'https://www.weather.com.cn/weather1d/999999999.shtml', 'body': '北京天气预报，及时准确发布中央气象台天气信息，便捷查询北京今日天气，北京周末天气，北京一周天气预报，北京15日天气预报，北京40日天气预报，北京天气预报还提供北京各区县的生活指数、健康指数、交通指数、旅游指数，及时发布北京气象预警信号、各类气象资讯。'}, {'title': '【北京天气查询】_北京天气怎么样_2345天气预报', 'href': 'https://tianqi.2345.com/fourth-54511.htm', 'body': '2345天气预报为您提供北京24小时天气详情、北京天气怎么样，还包括实时温度、风力风向、空气质量、湿度、气压、降水概率、紫外线强度等，每小时更新一次! ... 北京市今天空气质量 . ... pm10是直径小于等于10微米的可吸入颗粒物，能够进入上呼吸道，但部分 ...'}]\n"
     ]
    }
   ],
   "source": [
    "print(results)"
   ]
  },
  {
   "cell_type": "code",
   "execution_count": 183,
   "id": "26d5fa24-8c36-4b22-9c51-9102a9b4db5b",
   "metadata": {},
   "outputs": [
    {
     "name": "stdout",
     "output_type": "stream",
     "text": [
      "File downloaded successfully\n"
     ]
    }
   ],
   "source": [
    "import requests\n",
    "\n",
    "# URL of the file\n",
    "url = 'https://chrt.fm/track/46DD7B/media.transistor.fm/7387a8a4/cefc95d5.mp3?download=true&src=player'\n",
    "\n",
    "# Send a HTTP request to the URL\n",
    "response = requests.get(url)\n",
    "\n",
    "# Check if the request was successful\n",
    "if response.status_code == 200:\n",
    "    # Open a local file in binary write mode\n",
    "    with open('audio_file.mp3', 'wb') as file:\n",
    "        # Write the content of the response to the file\n",
    "        file.write(response.content)\n",
    "    print('File downloaded successfully')\n",
    "else:\n",
    "    print('Failed to download file. Status code:', response.status_code)\n"
   ]
  },
  {
   "cell_type": "code",
   "execution_count": null,
   "id": "05c2a24c-9d78-4905-8c3a-1a40f20f8119",
   "metadata": {},
   "outputs": [],
   "source": []
  }
 ],
 "metadata": {
  "kernelspec": {
   "display_name": "Python 3 (ipykernel)",
   "language": "python",
   "name": "python3"
  },
  "language_info": {
   "codemirror_mode": {
    "name": "ipython",
    "version": 3
   },
   "file_extension": ".py",
   "mimetype": "text/x-python",
   "name": "python",
   "nbconvert_exporter": "python",
   "pygments_lexer": "ipython3",
   "version": "3.11.8"
  }
 },
 "nbformat": 4,
 "nbformat_minor": 5
}
